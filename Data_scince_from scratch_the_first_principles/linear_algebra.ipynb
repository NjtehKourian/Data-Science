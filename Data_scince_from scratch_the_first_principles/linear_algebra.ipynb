{
 "cells": [
  {
   "cell_type": "markdown",
   "source": [
    "#### all of the code in this notebook assumes that there are no libraries or frameworks that deal with arrays"
   ],
   "metadata": {
    "collapsed": false,
    "pycharm": {
     "name": "#%% md\n"
    }
   }
  },
  {
   "cell_type": "code",
   "execution_count": 1,
   "outputs": [],
   "source": [
    "import functools\n",
    "import math"
   ],
   "metadata": {
    "collapsed": false,
    "pycharm": {
     "name": "#%%\n"
    }
   }
  },
  {
   "cell_type": "code",
   "execution_count": 2,
   "outputs": [],
   "source": [
    "def vector_addition(list1, list2):\n",
    "    assert len(list2) == len(list1)\n",
    "    summed_list = []\n",
    "    for i in range(len(list1)):\n",
    "        summed_list.append(list1[i]+list2[i])\n",
    "    return summed_list"
   ],
   "metadata": {
    "collapsed": false,
    "pycharm": {
     "name": "#%%\n"
    }
   }
  },
  {
   "cell_type": "code",
   "execution_count": 3,
   "outputs": [],
   "source": [
    "# the book's implementation for summation and subtraction are the same so i'll do the subtraction their way\n",
    "\n",
    "def vector_subtraction(v, w):# where v and w are vectors of the same size\n",
    "    return [v_i - w_i for v_i, w_i in zip(v,w)]"
   ],
   "metadata": {
    "collapsed": false,
    "pycharm": {
     "name": "#%%\n"
    }
   }
  },
  {
   "cell_type": "code",
   "execution_count": 4,
   "outputs": [
    {
     "data": {
      "text/plain": "[-2, 1, 0]"
     },
     "execution_count": 4,
     "metadata": {},
     "output_type": "execute_result"
    }
   ],
   "source": [
    "a = [1,5,2]\n",
    "b = [3,4,2]\n",
    "c = vector_subtraction(a,b)\n",
    "c"
   ],
   "metadata": {
    "collapsed": false,
    "pycharm": {
     "name": "#%%\n"
    }
   }
  },
  {
   "cell_type": "code",
   "execution_count": 5,
   "outputs": [],
   "source": [
    "def multiple_vector_sum(vectors):\n",
    "    summed = vectors[0]\n",
    "    for i in range(len(vectors)-1):\n",
    "        summed  = vector_addition(summed, vectors[i+1])\n",
    "    return summed"
   ],
   "metadata": {
    "collapsed": false,
    "pycharm": {
     "name": "#%%\n"
    }
   }
  },
  {
   "cell_type": "code",
   "execution_count": 6,
   "outputs": [],
   "source": [
    "def prodof_vec_num(v, a):  # where v is the vector and a is a scalar\n",
    "    return [a*v_i for v_i in v]"
   ],
   "metadata": {
    "collapsed": false,
    "pycharm": {
     "name": "#%%\n"
    }
   }
  },
  {
   "cell_type": "code",
   "execution_count": 7,
   "outputs": [],
   "source": [
    "def mean_vector(vectors):\n",
    "    return prodof_vec_num(multiple_vector_sum(vectors), 1/len(vectors))"
   ],
   "metadata": {
    "collapsed": false,
    "pycharm": {
     "name": "#%%\n"
    }
   }
  },
  {
   "cell_type": "code",
   "execution_count": 8,
   "outputs": [],
   "source": [
    "def scalar_product(v,w): # v and w are vectors of the same length\n",
    "    return sum([v_i*w_i for v_i,w_i in zip(v,w)])"
   ],
   "metadata": {
    "collapsed": false,
    "pycharm": {
     "name": "#%%\n"
    }
   }
  },
  {
   "cell_type": "code",
   "execution_count": 9,
   "outputs": [],
   "source": [
    "def sum_of_comp_sq(v):\n",
    "    return scalar_product(v,v)\n",
    "\n",
    "def vec_magnitude(v):\n",
    "    return math.sqrt(sum_of_comp_sq(v))\n"
   ],
   "metadata": {
    "collapsed": false,
    "pycharm": {
     "name": "#%%\n"
    }
   }
  },
  {
   "cell_type": "code",
   "execution_count": 10,
   "outputs": [],
   "source": [
    "def dist_between_vecs(v,w):\n",
    "    return vec_magnitude(vector_subtraction(v,w))"
   ],
   "metadata": {
    "collapsed": false,
    "pycharm": {
     "name": "#%%\n"
    }
   }
  },
  {
   "cell_type": "code",
   "execution_count": null,
   "outputs": [],
   "source": [],
   "metadata": {
    "collapsed": false,
    "pycharm": {
     "name": "#%%\n"
    }
   }
  }
 ],
 "metadata": {
  "kernelspec": {
   "display_name": "Python 3",
   "language": "python",
   "name": "python3"
  },
  "language_info": {
   "codemirror_mode": {
    "name": "ipython",
    "version": 2
   },
   "file_extension": ".py",
   "mimetype": "text/x-python",
   "name": "python",
   "nbconvert_exporter": "python",
   "pygments_lexer": "ipython2",
   "version": "2.7.6"
  }
 },
 "nbformat": 4,
 "nbformat_minor": 0
}